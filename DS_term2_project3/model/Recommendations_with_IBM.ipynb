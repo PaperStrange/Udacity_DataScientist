{
 "cells": [
  {
   "cell_type": "markdown",
   "metadata": {},
   "source": [
    "# Recommendations with IBM\n",
    "\n",
    "In this notebook, you will be putting your recommendation skills to use on real data from the IBM Watson Studio platform. \n",
    "\n",
    "\n",
    "You may either submit your notebook through the workspace here, or you may work from your local machine and submit through the next page.  Either way assure that your code passes the project [RUBRIC](https://review.udacity.com/#!/rubrics/2322/view).  **Please save regularly.**\n",
    "\n",
    "By following the table of contents, you will build out a number of different methods for making recommendations that can be used for different situations. \n",
    "\n",
    "## Table of Contents\n",
    "\n",
    "I. [Exploratory Data Analysis](#Exploratory-Data-Analysis)<br>\n",
    "II. [Rank Based Recommendations](#Rank)<br>\n",
    "III. [User-User Based Collaborative Filtering](#User-User)<br>\n",
    "IV. [Content Based Recommendations (EXTRA - NOT REQUIRED)](#Content-Recs)<br>\n",
    "V. [Matrix Factorization](#Matrix-Fact)<br>\n",
    "VI. [Extras & Concluding](#conclusions)\n",
    "\n",
    "At the end of the notebook, you will find directions for how to submit your work.  Let's get started by importing the necessary libraries and reading in the data."
   ]
  },
  {
   "cell_type": "code",
   "execution_count": null,
   "metadata": {},
   "outputs": [],
   "source": [
    "import pandas as pd\n",
    "import numpy as np\n",
    "import matplotlib.pyplot as plt\n",
    "import project_tests as t\n",
    "import pickle\n",
    "\n",
    "%matplotlib inline\n",
    "\n",
    "df = pd.read_csv('data/user-item-interactions.csv')\n",
    "df_content = pd.read_csv('data/articles_community.csv')\n",
    "del df['Unnamed: 0']\n",
    "del df_content['Unnamed: 0']\n",
    "\n",
    "# Show df to get an idea of the data\n",
    "df.head()"
   ]
  },
  {
   "cell_type": "code",
   "execution_count": null,
   "metadata": {},
   "outputs": [],
   "source": [
    "# Show df_content to get an idea of the data\n",
    "df_content.head()"
   ]
  },
  {
   "cell_type": "markdown",
   "metadata": {},
   "source": [
    "### <a class=\"anchor\" id=\"Exploratory-Data-Analysis\">Part I : Exploratory Data Analysis</a>\n",
    "\n",
    "Use the dictionary and cells below to provide some insight into the descriptive statistics of the data.\n",
    "\n",
    "`1.` What is the distribution of how many articles a user interacts with in the dataset?  Provide a visual and descriptive statistics to assist with giving a look at the number of times each user interacts with an article.  "
   ]
  },
  {
   "cell_type": "code",
   "execution_count": null,
   "metadata": {
    "scrolled": true
   },
   "outputs": [],
   "source": [
    "article_per_user = df.groupby(\"email\").count()\n",
    "article_per_user"
   ]
  },
  {
   "cell_type": "code",
   "execution_count": null,
   "metadata": {},
   "outputs": [],
   "source": [
    "interact_per_article = df.groupby(\"article_id\").count()\n",
    "interact_per_article.reset_index(inplace=True)\n",
    "interact_per_article_ = interact_per_article.groupby(\"email\").count()\n",
    "\n",
    "plt.bar(interact_per_article_.index, np.array(interact_per_article_[\"article_id\"]), width=25.0);\n",
    "# plt.xlim(xmin=0, xmax=900);\n",
    "# plt.ylim(ymin=0, ymax=70);\n",
    "plt.xlabel(\"Number of interactions\");\n",
    "plt.ylabel(\"Number of articles\");\n",
    "plt.title(\"Number of interactions\");"
   ]
  },
  {
   "cell_type": "code",
   "execution_count": null,
   "metadata": {},
   "outputs": [],
   "source": [
    "# Fill in the median and maximum number of user_article interactios below\n",
    "\n",
    "median_val = article_per_user.median()[0]  # 50% of individuals interact with ____ number of articles or fewer.\n",
    "max_views_by_user = article_per_user.max()[0] # The maximum number of user-article interactions by any 1 user is ______."
   ]
  },
  {
   "cell_type": "markdown",
   "metadata": {},
   "source": [
    "`2.` Explore and remove duplicate articles from the **df_content** dataframe.  "
   ]
  },
  {
   "cell_type": "code",
   "execution_count": null,
   "metadata": {},
   "outputs": [],
   "source": [
    "# Find and explore duplicate articles\n",
    "\n",
    "\n",
    "article_dup = df_content[df_content.duplicated(subset=[\"article_id\"])]\n",
    "article_dup"
   ]
  },
  {
   "cell_type": "code",
   "execution_count": null,
   "metadata": {},
   "outputs": [],
   "source": [
    "# Remove any rows that have the same article_id - only keep the first\n",
    "\n",
    "\n",
    "df_content_unique = df_content.drop_duplicates(subset=[\"article_id\"])"
   ]
  },
  {
   "cell_type": "markdown",
   "metadata": {},
   "source": [
    "`3.` Use the cells below to find:\n",
    "\n",
    "**a.** The number of unique articles that have an interaction with a user.  \n",
    "**b.** The number of unique articles in the dataset (whether they have any interactions or not).<br>\n",
    "**c.** The number of unique users in the dataset. (excluding null values) <br>\n",
    "**d.** The number of user-article interactions in the dataset."
   ]
  },
  {
   "cell_type": "code",
   "execution_count": null,
   "metadata": {},
   "outputs": [],
   "source": [
    "interact_per_user = df.groupby(\"email\").count()\n",
    "interact_unique = df.drop_duplicates(subset=[\"article_id\", \"email\"])\n",
    "\n",
    "unique_articles = interact_per_article[interact_per_article>0].shape[0]  # The number of unique articles that have at least one interaction\n",
    "total_articles = df_content_unique.shape[0]  # The number of unique articles on the IBM platform\n",
    "unique_users = interact_per_user.shape[0]  # The number of unique users\n",
    "user_article_interactions = df.shape[0]  # The number of user-article interactions"
   ]
  },
  {
   "cell_type": "markdown",
   "metadata": {},
   "source": [
    "`4.` Use the cells below to find the most viewed **article_id**, as well as how often it was viewed.  After talking to the company leaders, the `email_mapper` function was deemed a reasonable way to map users to ids.  There were a small number of null values, and it was found that all of these null values likely belonged to a single user (which is how they are stored using the function below)."
   ]
  },
  {
   "cell_type": "code",
   "execution_count": null,
   "metadata": {},
   "outputs": [],
   "source": [
    "user_per_article_sorted = df.groupby(\"article_id\").count().sort_values(by=\"email\", ascending=False)"
   ]
  },
  {
   "cell_type": "code",
   "execution_count": null,
   "metadata": {},
   "outputs": [],
   "source": [
    "most_viewed_article_id = str(user_per_article_sorted.index[0])  # The most viewed article in the dataset as a string with one value following the decimal \n",
    "max_views = user_per_article_sorted.loc[float(most_viewed_article_id)][\"email\"] # The most viewed article in the dataset was viewed how many times?"
   ]
  },
  {
   "cell_type": "code",
   "execution_count": null,
   "metadata": {},
   "outputs": [],
   "source": [
    "## No need to change the code here - this will be helpful for later parts of the notebook\n",
    "# Run this cell to map the user email to a user_id column and remove the email column\n",
    "\n",
    "\n",
    "def email_mapper():\n",
    "    coded_dict = dict()\n",
    "    cter = 1\n",
    "    email_encoded = []\n",
    "    \n",
    "    for val in df['email']:\n",
    "        if val not in coded_dict:\n",
    "            coded_dict[val] = cter\n",
    "            cter+=1\n",
    "        \n",
    "        email_encoded.append(coded_dict[val])\n",
    "    return email_encoded\n",
    "\n",
    "email_encoded = email_mapper()\n",
    "del df['email']\n",
    "df['user_id'] = email_encoded\n",
    "\n",
    "# show header\n",
    "df.head()"
   ]
  },
  {
   "cell_type": "code",
   "execution_count": null,
   "metadata": {},
   "outputs": [],
   "source": [
    "## If you stored all your results in the variable names above, \n",
    "## you shouldn't need to change anything in this cell\n",
    "\n",
    "sol_1_dict = {\n",
    "    '`50% of individuals have _____ or fewer interactions.`': median_val,\n",
    "    '`The total number of user-article interactions in the dataset is ______.`': user_article_interactions,\n",
    "    '`The maximum number of user-article interactions by any 1 user is ______.`': max_views_by_user,\n",
    "    '`The most viewed article in the dataset was viewed _____ times.`': max_views,\n",
    "    '`The article_id of the most viewed article is ______.`': most_viewed_article_id,\n",
    "    '`The number of unique articles that have at least 1 rating ______.`': unique_articles,\n",
    "    '`The number of unique users in the dataset is ______`': unique_users,\n",
    "    '`The number of unique articles on the IBM platform`': total_articles\n",
    "}\n",
    "\n",
    "# Test your dictionary against the solution\n",
    "t.sol_1_test(sol_1_dict)"
   ]
  },
  {
   "cell_type": "markdown",
   "metadata": {},
   "source": [
    "### <a class=\"anchor\" id=\"Rank\">Part II: Rank-Based Recommendations</a>\n",
    "\n",
    "Unlike in the earlier lessons, we don't actually have ratings for whether a user liked an article or not.  We only know that a user has interacted with an article.  In these cases, the popularity of an article can really only be based on how often an article was interacted with.\n",
    "\n",
    "`1.` Fill in the function below to return the **n** top articles ordered with most interactions as the top. Test your function using the tests below."
   ]
  },
  {
   "cell_type": "code",
   "execution_count": null,
   "metadata": {},
   "outputs": [],
   "source": [
    "def get_top_articles(n, df=df):\n",
    "    \"\"\"Gets top article titles based on how often an article was interacted with.\n",
    "\n",
    "    Gets top article titles with the use of Function-\"get_top_article_ids\". By default, \n",
    "    descending order is applied. \n",
    "\n",
    "    Assume a recomendation need: the number of top articles is large than the \n",
    "    dataset size, this function only return number of articles equal to the size of dataset \n",
    "    rather than the required number of article titles.\n",
    "\n",
    "    Args:\n",
    "        n: int, the number of top articles to return\n",
    "        df: pandas dataframe, as defined at the top of the notebook that containing \n",
    "            the dataset of user interactions with articles\n",
    "\n",
    "    Returns:\n",
    "        top_articles: list, contains the top 'n' article titles , for example:\n",
    "\n",
    "        ['healthcare python streaming application demo', \n",
    "            'use deep learning for image classification']\n",
    "\n",
    "    Raises:\n",
    "        None\n",
    "    \"\"\"\n",
    "    \n",
    "    top_articles_ids = get_top_article_ids(n, df)\n",
    "    top_articles = \\\n",
    "        list(\n",
    "        df[\"title\"][df[\"article_id\"].isin(top_articles_ids)].drop_duplicates()\n",
    "    )\n",
    "    \n",
    "    return top_articles  # Return the top article titles from df (not df_content)\n",
    "\n",
    "def get_top_article_ids(n, df=df):\n",
    "    \"\"\"Gets top article ids based on how often an article was interacted with.\n",
    "\n",
    "    Gets top article ids by the order of how often an article was interacted with.\n",
    "    By default, descending order is applied. \n",
    "\n",
    "    Args:\n",
    "        n: int, the number of top articles to return\n",
    "        df: pandas dataframe, as defined at the top of the notebook that containing \n",
    "            the dataset of user interactions with articles\n",
    "\n",
    "    Returns:\n",
    "        top_article_ids: list, contains the top 'n' article ids , for example:\n",
    "\n",
    "       [1429.0, 1330.0]\n",
    "\n",
    "    Raises:\n",
    "        None\n",
    "    \"\"\"\n",
    "    \n",
    "    interact_per_article = df.groupby(\"article_id\").count()\n",
    "    interact_per_article_sorted = \\\n",
    "        interact_per_article.sort_values(by=\"user_id\", ascending=False)    \n",
    "    top_article_ids = list(interact_per_article_sorted.index[:n])\n",
    "        \n",
    "    return top_article_ids  # Return the top article ids"
   ]
  },
  {
   "cell_type": "code",
   "execution_count": null,
   "metadata": {
    "scrolled": false
   },
   "outputs": [],
   "source": [
    "print(get_top_articles(10))\n",
    "print(get_top_article_ids(10))"
   ]
  },
  {
   "cell_type": "code",
   "execution_count": null,
   "metadata": {
    "scrolled": false
   },
   "outputs": [],
   "source": [
    "# Test your function by returning the top 5, 10, and 20 articles\n",
    "top_5 = get_top_articles(5)\n",
    "top_10 = get_top_articles(10)\n",
    "top_20 = get_top_articles(20)\n",
    "\n",
    "# Test each of your three lists from above\n",
    "t.sol_2_test(get_top_articles)"
   ]
  },
  {
   "cell_type": "markdown",
   "metadata": {},
   "source": [
    "### <a class=\"anchor\" id=\"User-User\">Part III: User-User Based Collaborative Filtering</a>\n",
    "\n",
    "\n",
    "`1.` Use the function below to reformat the **df** dataframe to be shaped with users as the rows and articles as the columns.  \n",
    "\n",
    "* Each **user** should only appear in each **row** once.\n",
    "\n",
    "\n",
    "* Each **article** should only show up in one **column**.  \n",
    "\n",
    "\n",
    "* **If a user has interacted with an article, then place a 1 where the user-row meets for that article-column**.  It does not matter how many times a user has interacted with the article, all entries where a user has interacted with an article should be a 1.  \n",
    "\n",
    "\n",
    "* **If a user has not interacted with an item, then place a zero where the user-row meets for that article-column**. \n",
    "\n",
    "Use the tests to make sure the basic structure of your matrix matches what is expected by the solution."
   ]
  },
  {
   "cell_type": "code",
   "execution_count": null,
   "metadata": {
    "scrolled": true
   },
   "outputs": [],
   "source": [
    "df[df.duplicated(subset=[\"article_id\", \"user_id\"])]  #  Notes 2019/4/17: same article may be reviewed by the same user many times"
   ]
  },
  {
   "cell_type": "code",
   "execution_count": null,
   "metadata": {},
   "outputs": [],
   "source": [
    "# create the user-article matrix with 1's and 0's\n",
    "\n",
    "\n",
    "def create_user_item(df):\n",
    "    \"\"\"Gets user-item matrix per user per article.\n",
    "\n",
    "    Gets user-item matrix to facilitate collaborative recommendation. It does not \n",
    "    matter how many times a user has interacted with the article, all entries \n",
    "    where a user has interacted with an article is 1\n",
    "\n",
    "    Args:\n",
    "        df: pandas dataframe, as defined at the top of the notebook that containing \n",
    "            the dataset of user interactions with articles\n",
    "\n",
    "    Returns:\n",
    "        user_item: pandas dataframe, which is set by \n",
    "                   1's when a user has interacted with an article, 0 otherwise\n",
    "                \n",
    "    Raises:\n",
    "        None\n",
    "    \"\"\"\n",
    "\n",
    "    user_item_df = \\\n",
    "        df.groupby(['user_id', 'article_id']).count().unstack().fillna(0)[\"title\"]\n",
    "    user_item_df[user_item_df>=1] = 1\n",
    "    \n",
    "#     user_item_df = df.groupby(['user_id']).article_id.value_counts().unstack()\n",
    "#     user_item_df = user_item_df.clip(upper=1).fillna(0)\n",
    "    \n",
    "    return  user_item_df  # return the user_item matrix \n",
    "\n",
    "\n",
    "user_item = create_user_item(df)"
   ]
  },
  {
   "cell_type": "code",
   "execution_count": null,
   "metadata": {},
   "outputs": [],
   "source": [
    "## Tests: You should just need to run this cell.  Don't change the code.\n",
    "assert user_item.shape[0] == 5149, \"Oops!  The number of users in the user-article matrix doesn't look right.\"\n",
    "assert user_item.shape[1] == 714, \"Oops!  The number of articles in the user-article matrix doesn't look right.\"\n",
    "assert user_item.sum(axis=1)[1] == 36, \"Oops!  The number of articles seen by user 1 doesn't look right.\" \n",
    "print(\"You have passed our quick tests!  Please proceed!\")"
   ]
  },
  {
   "cell_type": "markdown",
   "metadata": {},
   "source": [
    "`2.` Complete the function below which should take a user_id and provide an ordered list of the most similar users to that user (from most similar to least similar).  The returned result should not contain the provided user_id, as we know that each user is similar to him/herself. Because the results for each user here are binary, it (perhaps) makes sense to compute similarity as the dot product of two users. \n",
    "\n",
    "Use the tests to test your function."
   ]
  },
  {
   "cell_type": "code",
   "execution_count": null,
   "metadata": {},
   "outputs": [],
   "source": [
    "# TODO 2019/5/9: find out the difference between two rank method, why only one of it passed the test?\n",
    "\n",
    "\n",
    "# def random_select(x):\n",
    "#     \"\"\"Selects one user randomly.\n",
    "\n",
    "#     Applys a selection scheme to assure users who share the same closeness are chosen\n",
    "#     arbitrarily as the 'next' user.\n",
    "\n",
    "#     Args:\n",
    "#         x: pandas series, data returned by pandas dataframe attribute \"groupby\" from \n",
    "#            the next function \n",
    "\n",
    "#     Returns:\n",
    "#         winner: int, the selected user id\n",
    "                \n",
    "#     Raises:\n",
    "#         ValueError: if object passed to the parameter \"candidates\" is not 1-dimensional  \n",
    "#     \"\"\"\n",
    "    \n",
    "#     candidates = x[\"user_id\"].values\n",
    "#     winner = np.random.choice(candidates)\n",
    "    \n",
    "#     return winner\n",
    "\n",
    "    \n",
    "def find_similar_users(user_id, user_item=user_item):\n",
    "    \"\"\"Finds similar users for given user.\n",
    "\n",
    "    Finds similar users for one user specified by input. By default, the larger dot \n",
    "    value a product user gains, higer rank and closeness it is assigned. \n",
    "\n",
    "    Args:\n",
    "        user_id: int, each number indicate an unique user \n",
    "        user_item: pandas dataframe, which is set by 1's when a user has interacted \n",
    "                   with an article, 0 otherwise\n",
    "    Returns:\n",
    "        similar_users: list, ordered where the closest users are listed first\n",
    "                \n",
    "    Raises:\n",
    "        None\n",
    "    \"\"\"    \n",
    "    \n",
    "#     # compute similarity of each user to the provided user\n",
    "#     sim = user_item.loc[user_id].dot(user_item.transpose())\n",
    "#     user_similarity_arr = sim.values\n",
    "#     neighbor_id = sim.index    \n",
    "#     user_similarity_df = \\\n",
    "#         pd.DataFrame(\n",
    "#         {\n",
    "#             \"neighbor_id\": neighbor_id,\n",
    "#             \"similarity\": user_similarity_arr,\n",
    "#         }\n",
    "#     )\n",
    "    \n",
    "#     # sort by similarity\n",
    "#     user_similarity_df = \\\n",
    "#         user_similarity_df.sort_values(by=[\"similarity\"], ascending=False)\n",
    "\n",
    "#     # create list of just the ids\n",
    "# #     user_similarity_sorted_series = \\\n",
    "# #         user_similarity_df.groupby(by=\"similarity\", sort=False).apply(random_select)\n",
    "#     most_similar_users_list = list(user_similarity_df[\"neighbor_id\"].values)\n",
    "    \n",
    "#     # remove the own user's id\n",
    "#     most_similar_users_list.remove(user_id)\n",
    "\n",
    "    similarity = []\n",
    "    for user in range(1, user_item.shape[0]+1):\n",
    "        sim = np.dot(user_item.loc[user_id], user_item.loc[user])\n",
    "        similarity.append((user, sim))\n",
    "\n",
    "    # sort by similarity\n",
    "    similarity.sort(key=lambda x: x[1], reverse=True)    \n",
    "    \n",
    "    # create list of just the ids\n",
    "    most_similar_users_list = [each_item[0] for each_item in similarity]\n",
    "    \n",
    "    # remove the own user's id\n",
    "    most_similar_users_list.remove(user_id)   \n",
    "    \n",
    "    return most_similar_users_list # return a list of the users in order from most to least similar"
   ]
  },
  {
   "cell_type": "code",
   "execution_count": null,
   "metadata": {
    "scrolled": false
   },
   "outputs": [],
   "source": [
    "# Do a spot check of your function\n",
    "print(\"The 10 most similar users to user 1 are: {}\".format(find_similar_users(1)[:10]))\n",
    "print(\"The 5 most similar users to user 3933 are: {}\".format(find_similar_users(3933)[:5]))\n",
    "print(\"The 3 most similar users to user 46 are: {}\".format(find_similar_users(46)[:3]))"
   ]
  },
  {
   "cell_type": "markdown",
   "metadata": {},
   "source": [
    "`3.` Now that you have a function that provides the most similar users to each user, you will want to use these users to find articles you can recommend.  Complete the functions below to return the articles you would recommend to each user. "
   ]
  },
  {
   "cell_type": "code",
   "execution_count": null,
   "metadata": {},
   "outputs": [],
   "source": [
    "def get_article_names(article_ids, df=df):\n",
    "    '''\n",
    "    INPUT:\n",
    "    article_ids - (list) a list of article ids\n",
    "    df - (pandas dataframe) df as defined at the top of the notebook\n",
    "    \n",
    "    OUTPUT:\n",
    "    article_names - (list) a list of article names associated with the list of article ids \n",
    "                    (this is identified by the title column)\n",
    "    '''\n",
    "    \n",
    "    article_ids = [float(each_id) for each_id in article_ids]\n",
    "    df_unique = df.drop_duplicates(subset=[\"title\"])\n",
    "    article_names = \\\n",
    "        list(\n",
    "            df_unique[df_unique[\"article_id\"].isin(article_ids)][\"title\"].values\n",
    "        )\n",
    "    \n",
    "    return article_names # Return the article names associated with list of article ids\n",
    "\n",
    "\n",
    "def get_user_articles(user_id, user_item=user_item):\n",
    "    '''\n",
    "    INPUT:\n",
    "    user_id - (int) a user id\n",
    "    user_item - (pandas dataframe) matrix of users by articles: \n",
    "                1's when a user has interacted with an article, 0 otherwise\n",
    "    \n",
    "    OUTPUT:\n",
    "    article_ids - (list) a list of the article ids seen by the user\n",
    "    article_names - (list) a list of article names associated with the list of article ids \n",
    "                    (this is identified by the title column)\n",
    "    \n",
    "    Description:\n",
    "    Provides a list of the article_ids and article titles that have been seen by a user\n",
    "    '''\n",
    "    \n",
    "    article_ids = \\\n",
    "        list(user_item.loc[user_id][user_item.loc[user_id]==1].index)\n",
    "    article_ids = [str(each_id) for each_id in article_ids]\n",
    "    article_names = get_article_names(article_ids)\n",
    "    \n",
    "    return article_ids, article_names # return the ids and names\n",
    "\n",
    "\n",
    "def user_user_recs(user_id, m=10, user_item=user_item):\n",
    "    \n",
    "    '''\n",
    "    INPUT:\n",
    "    user_id - (int) a user id\n",
    "    m - (int) the number of recommendations you want for the user\n",
    "    \n",
    "    OUTPUT:\n",
    "    recs - (list) a list of recommendations for the user\n",
    "    \n",
    "    Description:\n",
    "    Loops through the users based on closeness to the input user_id\n",
    "    For each user - finds articles the user hasn't seen before and provides them as recs\n",
    "    Does this until m recommendations are found\n",
    "    \n",
    "    Notes:\n",
    "    Users who are the same closeness are chosen arbitrarily as the 'next' user\n",
    "    \n",
    "    For the user where the number of recommended articles starts below m \n",
    "    and ends exceeding m, the last items are chosen arbitrarily\n",
    "    \n",
    "    '''\n",
    "\n",
    "    most_similar_users_list = find_similar_users(user_id)\n",
    "    artilce_names_readed = \\\n",
    "        list(user_item.loc[user_id][user_item.loc[user_id]==1].index)\n",
    "    recs = []\n",
    "    new = 0\n",
    "    \n",
    "    for each_user in most_similar_users_list:\n",
    "        article_ids, artilce_names = get_user_articles(each_user)\n",
    "        article_ids = [float(each_id) for each_id in article_ids]\n",
    "        \n",
    "        recs_part = list(np.setdiff1d(article_ids, artilce_names_readed))\n",
    "        left = m - new\n",
    "        new = len(recs_part)\n",
    "        \n",
    "        if new > left & left != m:\n",
    "            recs += recs_part[:left-1]\n",
    "            last_item = np.random.choice(recs_part[left-1:])\n",
    "            recs += last_item\n",
    "        elif new > left & left == m:\n",
    "            recs += recs_part[:m]\n",
    "        else:\n",
    "            recs += recs_part\n",
    "        if len(recs) == m:\n",
    "            break\n",
    "\n",
    "    return recs # return your recommendations for this user_id    "
   ]
  },
  {
   "cell_type": "code",
   "execution_count": null,
   "metadata": {
    "scrolled": false
   },
   "outputs": [],
   "source": [
    "# Check Results\n",
    "get_article_names(user_user_recs(1, 10)) # Return 10 recommendations for user 1"
   ]
  },
  {
   "cell_type": "code",
   "execution_count": null,
   "metadata": {},
   "outputs": [],
   "source": [
    "# Test your functions here - No need to change this code - just run this cell\n",
    "assert set(get_article_names(['1024.0', '1176.0', '1305.0', '1314.0', '1422.0', '1427.0'])) == set(['using deep learning to reconstruct high-resolution audio', 'build a python app on the streaming analytics service', 'gosales transactions for naive bayes model', 'healthcare python streaming application demo', 'use r dataframes & ibm watson natural language understanding', 'use xgboost, scikit-learn & ibm watson machine learning apis']), \"Oops! Your the get_article_names function doesn't work quite how we expect.\"\n",
    "assert set(get_article_names(['1320.0', '232.0', '844.0'])) == set(['housing (2015): united states demographic measures','self-service data preparation with ibm data refinery','use the cloudant-spark connector in python notebook']), \"Oops! Your the get_article_names function doesn't work quite how we expect.\"\n",
    "assert set(get_user_articles(20)[0]) == set(['1320.0', '232.0', '844.0'])\n",
    "assert set(get_user_articles(20)[1]) == set(['housing (2015): united states demographic measures', 'self-service data preparation with ibm data refinery','use the cloudant-spark connector in python notebook'])\n",
    "assert set(get_user_articles(2)[0]) == set(['1024.0', '1176.0', '1305.0', '1314.0', '1422.0', '1427.0'])\n",
    "assert set(get_user_articles(2)[1]) == set(['using deep learning to reconstruct high-resolution audio', 'build a python app on the streaming analytics service', 'gosales transactions for naive bayes model', 'healthcare python streaming application demo', 'use r dataframes & ibm watson natural language understanding', 'use xgboost, scikit-learn & ibm watson machine learning apis'])\n",
    "print(\"If this is all you see, you passed all of our tests!  Nice job!\")"
   ]
  },
  {
   "cell_type": "markdown",
   "metadata": {},
   "source": [
    "`4.` Now we are going to improve the consistency of the **user_user_recs** function from above.  \n",
    "\n",
    "* Instead of arbitrarily choosing when we obtain users who are all the same closeness to a given user - choose the users that have the most total article interactions before choosing those with fewer article interactions.\n",
    "\n",
    "\n",
    "* Instead of arbitrarily choosing articles from the user where the number of recommended articles starts below m and ends exceeding m, choose articles with the articles with the most total interactions before choosing those with fewer total interactions. This ranking should be  what would be obtained from the **top_articles** function you wrote earlier."
   ]
  },
  {
   "cell_type": "code",
   "execution_count": null,
   "metadata": {},
   "outputs": [],
   "source": [
    "def find_similar_users_part2(user_id, user_item=user_item):\n",
    "    \"\"\"Finds similar users for given user.\n",
    "\n",
    "    Finds similar users for one user specified by input. By default, the larger dot \n",
    "    value a product user gains, higer rank and closeness it is assigned. Among users \n",
    "    who share the same closeness,  the user that have more total article interactions\n",
    "    are chosen as the 'next' user `first`.\n",
    "\n",
    "    Args:\n",
    "        user_id: int, each number indicate an unique user \n",
    "        user_item: pandas dataframe, which is set by 1's when a user has interacted \n",
    "                   with an article, 0 otherwise\n",
    "    Returns:\n",
    "        most_similar_users_list: list, containing users in order from most to least similar\n",
    "                \n",
    "    Raises:\n",
    "        ValueError: if some users have the closeness the same as the closeness between \n",
    "                    original users and themselves, by random selection, may be no \n",
    "                    original users id are left in list\n",
    "    \"\"\"    \n",
    "    \n",
    "    # compute similarity of each user to the provided user\n",
    "    neighbors_df = get_top_sorted_users(user_id)\n",
    "    \n",
    "    # sort by similarity\n",
    "    user_similarity_df = \\\n",
    "        neighbors_df.sort_values(by=[\"similarity\", \"num_interactions\"], ascending=False)\n",
    "    \n",
    "    # create list of just the ids\n",
    "    \n",
    "#     user_similarity_sorted_series = \\\n",
    "#         user_similarity_df.groupby(by=\"similarity\", sort=False).apply(specific_select)\n",
    "#     most_similar_users_list = list(user_similarity_sorted_series.values)\n",
    "\n",
    "    most_similar_users_list = list(user_similarity_df[\"neighbor_id\"].values)\n",
    "    most_similar_users_list.remove(user_id)\n",
    "    \n",
    "    return most_similar_users_list  # return a list of the users in order from most to least similar"
   ]
  },
  {
   "cell_type": "code",
   "execution_count": null,
   "metadata": {},
   "outputs": [],
   "source": [
    "def get_top_sorted_users(user_id, df=df, user_item=user_item):\n",
    "    '''\n",
    "    INPUT:\n",
    "    user_id - (int)\n",
    "    df - (pandas dataframe) df as defined at the top of the notebook \n",
    "    user_item - (pandas dataframe) matrix of users by articles: \n",
    "            1's when a user has interacted with an article, 0 otherwise\n",
    "    \n",
    "            \n",
    "    OUTPUT:\n",
    "    neighbors_df - (pandas dataframe) a dataframe with:\n",
    "                    neighbor_id - is a neighbor user_id\n",
    "                    similarity - measure of the similarity of each user to the provided user_id\n",
    "                    num_interactions - the number of articles viewed by the user - if a u\n",
    "                    \n",
    "    Other Details - sort the neighbors_df by the similarity and then by number of interactions where \n",
    "                    highest of each is higher in the dataframe\n",
    "     \n",
    "    '''\n",
    "    \n",
    "    df_article_views = df.groupby('user_id').count()\n",
    "    \n",
    "    similarity = []\n",
    "    for user in range(1, user_item.shape[0]+1):\n",
    "        sim = np.dot(user_item.loc[user_id], user_item.loc[user])\n",
    "        similarity.append((user, sim))\n",
    "\n",
    "    # sort by similarity\n",
    "    similarity.sort(key=lambda x: x[1], reverse=True)  \n",
    "    \n",
    "    # create dataframe\n",
    "    df_sims = pd.DataFrame()\n",
    "    df_sims['user_id'] = [x[0] for x in similarity]\n",
    "    df_sims['similarity'] = [x[1] for x in similarity]\n",
    "    df_sims = df_sims.set_index('user_id')\n",
    "\n",
    "    # dataframe with users sorted by closest followed by most articles viewed\n",
    "    neighbors_df = pd.merge(df_sims, df_article_views, how=\"left\", left_index=True, right_index=True) \n",
    "    neighbors_df = neighbors_df.loc[:, ['similarity', 'article_id']]\n",
    "    neighbors_df = neighbors_df.reset_index()\n",
    "    neighbors_df.columns = ['neighbor_id', 'similarity', 'num_interactions'] \n",
    "    \n",
    "#     sim = user_item.loc[user_id].dot(user_item.transpose()).drop(user_id)\n",
    "# #     sim = user_item.loc[user_id-1].dot(user_item.transpose()).drop(user_id-1)\n",
    "#     user_similarity_arr = sim.values\n",
    "#     neighbor_id = sim.index\n",
    "#     num_interactions = user_item.drop(user_id).sum(axis=1).values\n",
    "# #     num_interactions = user_item.drop(user_id-1).sum(axis=1).values\n",
    "    \n",
    "#     neighbors_df = \\\n",
    "#         pd.DataFrame(\n",
    "#         {\n",
    "#             \"neighbor_id\": neighbor_id,\n",
    "#             \"similarity\": user_similarity_arr,\n",
    "#             \"num_interactions\": num_interactions,\n",
    "#         }\n",
    "#     )\n",
    "    \n",
    "    return neighbors_df # Return the dataframe specified in the doc_string\n",
    "\n",
    "\n",
    "def user_user_recs_part2(user_id, m=10):\n",
    "    '''\n",
    "    INPUT:\n",
    "    user_id - (int) a user id\n",
    "    m - (int) the number of recommendations you want for the user\n",
    "    \n",
    "    OUTPUT:\n",
    "    recs - (list) a list of recommendations for the user by article id\n",
    "    rec_names - (list) a list of recommendations for the user by article title\n",
    "    \n",
    "    Description:\n",
    "    Loops through the users based on closeness to the input user_id\n",
    "    For each user - finds articles the user hasn't seen before and provides them as recs\n",
    "    Does this until m recommendations are found\n",
    "    \n",
    "    Notes:\n",
    "    * Choose the users that have the most total article interactions \n",
    "    before choosing those with fewer article interactions.\n",
    "\n",
    "    * Choose articles with the articles with the most total interactions \n",
    "    before choosing those with fewer total interactions. \n",
    "   \n",
    "    '''\n",
    "    \n",
    "    most_similar_users_list = find_similar_users_part2(user_id)\n",
    "    artilce_names_readed = \\\n",
    "        list(user_item.loc[user_id][user_item.loc[user_id]==1].index)\n",
    "    article_ids_rank = get_top_article_ids(1000)\n",
    "    article_id_rank_dict = \\\n",
    "        {each_id:ind+1 for ind, each_id in enumerate(article_ids_rank)}\n",
    "    recs = []\n",
    "    new = 0\n",
    "    \n",
    "    for each_user in most_similar_users_list:\n",
    "        article_ids, artilce_names = get_user_articles(each_user)\n",
    "        article_ids = [float(each_id) for each_id in article_ids]\n",
    "        \n",
    "        recs_part = list(np.setdiff1d(article_ids, artilce_names_readed))\n",
    "        left = m - new\n",
    "        new = len(recs_part)\n",
    "        \n",
    "        if new > left & left != m:\n",
    "            recs_part_index = \\\n",
    "                pd.Series(recs_part) \\\n",
    "                    .map(article_id_rank_dict) \\\n",
    "                        .sort_values(ascending=False).index[:left]\n",
    "            recs += [recs_part[each_ind] for each_ind in recs_part_index]\n",
    "        elif new > left & left == m:\n",
    "            recs += recs_part[:m]\n",
    "        else:\n",
    "            recs += recs_part\n",
    "        if len(recs) == m:\n",
    "            break    \n",
    "    \n",
    "    rec_names = get_article_names(recs)\n",
    "    \n",
    "    return recs, rec_names"
   ]
  },
  {
   "cell_type": "code",
   "execution_count": null,
   "metadata": {
    "scrolled": false
   },
   "outputs": [],
   "source": [
    "# Quick spot check - don't change this code - just use it to test your functions\n",
    "rec_ids, rec_names = user_user_recs_part2(20, 10)\n",
    "print(\"The top 10 recommendations for user 20 are the following article ids:\")\n",
    "print(rec_ids)\n",
    "print()\n",
    "print(\"The top 10 recommendations for user 20 are the following article names:\")\n",
    "print(rec_names)"
   ]
  },
  {
   "cell_type": "markdown",
   "metadata": {},
   "source": [
    "`5.` Use your functions from above to correctly fill in the solutions to the dictionary below.  Then test your dictionary against the solution.  Provide the code you need to answer each following the comments below."
   ]
  },
  {
   "cell_type": "code",
   "execution_count": null,
   "metadata": {},
   "outputs": [],
   "source": [
    "### Tests with a dictionary of results\n",
    "\n",
    "\n",
    "user1_most_sim = find_similar_users_part2(1)[0] # Find the user that is most similar to user 1 \n",
    "user131_10th_sim = find_similar_users_part2(131)[9] # Find the 10th most similar user to user 131"
   ]
  },
  {
   "cell_type": "code",
   "execution_count": null,
   "metadata": {},
   "outputs": [],
   "source": [
    "## Dictionary Test Here\n",
    "sol_5_dict = {\n",
    "    'The user that is most similar to user 1.': user1_most_sim, \n",
    "    'The user that is the 10th most similar to user 131': user131_10th_sim,\n",
    "}\n",
    "\n",
    "t.sol_5_test(sol_5_dict)"
   ]
  },
  {
   "cell_type": "markdown",
   "metadata": {},
   "source": [
    "`6.` If we were given a new user, which of the above functions would you be able to use to make recommendations?  Explain.  Can you think of a better way we might make recommendations?  Use the cell below to explain a better method for new users."
   ]
  },
  {
   "cell_type": "markdown",
   "metadata": {},
   "source": [
    "**Provide your response here.**\n",
    "\n",
    "If we were given a new user, we could use the above function \"get_top_articles\" to make rank based recommendations because of the insufficient data. To make a better recommendations, we could unit several recommendation method such as combining content based and ranked based recommendations with FunkSVD implementation"
   ]
  },
  {
   "cell_type": "markdown",
   "metadata": {},
   "source": [
    "`7.` Using your existing functions, provide the top 10 recommended articles you would provide for the a new user below.  You can test your function against our thoughts to make sure we are all on the same page with how we might make a recommendation."
   ]
  },
  {
   "cell_type": "code",
   "execution_count": null,
   "metadata": {},
   "outputs": [],
   "source": [
    "new_user = '0.0'\n",
    "\n",
    "# What would your recommendations be for this new user '0.0'?  As a new user, they have no observed articles.\n",
    "# Provide a list of the top 10 article ids you would give to \n",
    "new_user_recs = [str(each_id) for each_id in get_top_article_ids(10)]  # Your recommendations here"
   ]
  },
  {
   "cell_type": "code",
   "execution_count": null,
   "metadata": {},
   "outputs": [],
   "source": [
    "assert set(new_user_recs) == set(['1314.0','1429.0','1293.0','1427.0','1162.0','1364.0','1304.0','1170.0','1431.0','1330.0']), \"Oops!  It makes sense that in this case we would want to recommend the most popular articles, because we don't know anything about these users.\"\n",
    "\n",
    "print(\"That's right!  Nice job!\")"
   ]
  },
  {
   "cell_type": "markdown",
   "metadata": {},
   "source": [
    "### <a class=\"anchor\" id=\"Content-Recs\">Part IV: Content Based Recommendations (EXTRA - NOT REQUIRED)</a>\n",
    "\n",
    "Another method we might use to make recommendations is to perform a ranking of the highest ranked articles associated with some term.  You might consider content to be the **doc_body**, **doc_description**, or **doc_full_name**.  There isn't one way to create a content based recommendation, especially considering that each of these columns hold content related information.  \n",
    "\n",
    "`1.` Use the function body below to create a content based recommender.  Since there isn't one right answer for this recommendation tactic, no test functions are provided.  Feel free to change the function inputs if you decide you want to try a method that requires more input values.  The input values are currently set with one idea in mind that you may use to make content based recommendations.  One additional idea is that you might want to choose the most popular recommendations that meet your 'content criteria', but again, there is a lot of flexibility in how you might make these recommendations.\n",
    "\n",
    "### This part is NOT REQUIRED to pass this project.  However, you may choose to take this on as an extra way to show off your skills."
   ]
  },
  {
   "cell_type": "code",
   "execution_count": null,
   "metadata": {},
   "outputs": [],
   "source": [
    "def make_content_recs():\n",
    "    '''\n",
    "    INPUT:\n",
    "    \n",
    "    OUTPUT:\n",
    "    \n",
    "    '''"
   ]
  },
  {
   "cell_type": "markdown",
   "metadata": {},
   "source": [
    "`2.` Now that you have put together your content-based recommendation system, use the cell below to write a summary explaining how your content based recommender works.  Do you see any possible improvements that could be made to your function?  Is there anything novel about your content based recommender?\n",
    "\n",
    "### This part is NOT REQUIRED to pass this project.  However, you may choose to take this on as an extra way to show off your skills."
   ]
  },
  {
   "cell_type": "markdown",
   "metadata": {},
   "source": [
    "**Write an explanation of your content based recommendation system here.**"
   ]
  },
  {
   "cell_type": "markdown",
   "metadata": {},
   "source": [
    "`3.` Use your content-recommendation system to make recommendations for the below scenarios based on the comments.  Again no tests are provided here, because there isn't one right answer that could be used to find these content based recommendations.\n",
    "\n",
    "### This part is NOT REQUIRED to pass this project.  However, you may choose to take this on as an extra way to show off your skills."
   ]
  },
  {
   "cell_type": "code",
   "execution_count": null,
   "metadata": {},
   "outputs": [],
   "source": [
    "# make recommendations for a brand new user\n",
    "\n",
    "\n",
    "# make a recommendations for a user who only has interacted with article id '1427.0'\n",
    "\n"
   ]
  },
  {
   "cell_type": "markdown",
   "metadata": {},
   "source": [
    "### <a class=\"anchor\" id=\"Matrix-Fact\">Part V: Matrix Factorization</a>\n",
    "\n",
    "In this part of the notebook, you will build use matrix factorization to make article recommendations to the users on the IBM Watson Studio platform.\n",
    "\n",
    "`1.` You should have already created a **user_item** matrix above in **question 1** of **Part III** above.  This first question here will just require that you run the cells to get things set up for the rest of **Part V** of the notebook. "
   ]
  },
  {
   "cell_type": "code",
   "execution_count": null,
   "metadata": {},
   "outputs": [],
   "source": [
    "# Load the matrix here\n",
    "user_item_matrix = pd.read_pickle('user_item_matrix.p')"
   ]
  },
  {
   "cell_type": "code",
   "execution_count": null,
   "metadata": {},
   "outputs": [],
   "source": [
    "# quick look at the matrix\n",
    "user_item_matrix.head()"
   ]
  },
  {
   "cell_type": "markdown",
   "metadata": {},
   "source": [
    "`2.` In this situation, you can use Singular Value Decomposition from [numpy](https://docs.scipy.org/doc/numpy-1.14.0/reference/generated/numpy.linalg.svd.html) on the user-item matrix.  Use the cell to perform SVD, and explain why this is different than in the lesson."
   ]
  },
  {
   "cell_type": "code",
   "execution_count": null,
   "metadata": {},
   "outputs": [],
   "source": [
    "# Perform SVD on the User-Item Matrix\n",
    "\n",
    "\n",
    "u, s, vt = np.linalg.svd(user_item_matrix)  # use the built in to get the three matrices"
   ]
  },
  {
   "cell_type": "code",
   "execution_count": null,
   "metadata": {},
   "outputs": [],
   "source": [
    "user_item_matrix_est = np.around(np.dot(np.dot(u[:, :714], np.diag(s)), vt))\n",
    "diffs = np.subtract(user_item_matrix, user_item_matrix_est)\n",
    "err = np.sum(np.sum(np.abs(diffs)))\n",
    "err"
   ]
  },
  {
   "cell_type": "markdown",
   "metadata": {},
   "source": [
    "**Provide your response here.**\n",
    "\n",
    "SVD here works well with zero error if all eigenvalues are used cause there is no missing value here while in the lesson, FunkSVD is applied to deal with the missing values in movie data. "
   ]
  },
  {
   "cell_type": "markdown",
   "metadata": {},
   "source": [
    "`3.` Now for the tricky part, how do we choose the number of latent features to use?  Running the below cell, you can see that as the number of latent features increases, we obtain a lower error rate on making predictions for the 1 and 0 values in the user-item matrix.  Run the cell below to get an idea of how the accuracy improves as we increase the number of latent features."
   ]
  },
  {
   "cell_type": "code",
   "execution_count": null,
   "metadata": {},
   "outputs": [],
   "source": [
    "num_latent_feats = np.arange(10, 700+10, 20)\n",
    "sum_errs = []\n",
    "\n",
    "for k in num_latent_feats:\n",
    "    # restructure with k latent features\n",
    "    s_new, u_new, vt_new = np.diag(s[:k]), u[:, :k], vt[:k, :]\n",
    "    \n",
    "    # take dot product\n",
    "    user_item_est = np.around(np.dot(np.dot(u_new, s_new), vt_new))\n",
    "    \n",
    "    # compute error for each prediction to actual value\n",
    "    diffs = np.subtract(user_item_matrix, user_item_est)\n",
    "    \n",
    "    # total errors and keep track of them\n",
    "    err = np.sum(np.sum(np.abs(diffs)))\n",
    "    sum_errs.append(err)\n",
    "    \n",
    "    \n",
    "plt.plot(num_latent_feats, 1 - np.array(sum_errs)/df.shape[0]);\n",
    "plt.xlabel('Number of Latent Features');\n",
    "plt.ylabel('Accuracy');\n",
    "plt.title('Accuracy vs. Number of Latent Features');"
   ]
  },
  {
   "cell_type": "markdown",
   "metadata": {},
   "source": [
    "`4.` From the above, we can't really be sure how many features to use, because simply having a better way to predict the 1's and 0's of the matrix doesn't exactly give us an indication of if we are able to make good recommendations.  Instead, we might split our dataset into a training and test set of data, as shown in the cell below.  \n",
    "\n",
    "Use the code from question 3 to understand the impact on accuracy of the training and test sets of data with different numbers of latent features. Using the split below: \n",
    "\n",
    "* How many users can we make predictions for in the test set?  \n",
    "* How many users are we not able to make predictions for because of the cold start problem?\n",
    "* How many articles can we make predictions for in the test set?  \n",
    "* How many articles are we not able to make predictions for because of the cold start problem?"
   ]
  },
  {
   "cell_type": "code",
   "execution_count": null,
   "metadata": {},
   "outputs": [],
   "source": [
    "def create_test_and_train_user_item(df_train, df_test):\n",
    "    '''\n",
    "    INPUT:\n",
    "    df_train - training dataframe\n",
    "    df_test - test dataframe\n",
    "    \n",
    "    OUTPUT:\n",
    "    user_item_train - a user-item matrix of the training dataframe \n",
    "                      (unique users for each row and unique articles for each column)\n",
    "    user_item_test - a user-item matrix of the testing dataframe \n",
    "                    (unique users for each row and unique articles for each column)\n",
    "    test_idx - all of the test user ids\n",
    "    test_arts - all of the test article ids\n",
    "    \n",
    "    '''\n",
    "    \n",
    "    user_item_train = create_user_item(df_train)\n",
    "    user_item_test = create_user_item(df_test)\n",
    "    \n",
    "    test_idx = df_test[\"user_id\"].drop_duplicates().values\n",
    "    test_arts = df_test[\"article_id\"].drop_duplicates().values\n",
    "\n",
    "    return user_item_train, user_item_test, test_idx, test_arts\n",
    "\n",
    "\n",
    "df_train = df.head(40000)\n",
    "df_test = df.tail(5993)\n",
    "user_item_train, user_item_test, test_idx, test_arts = create_test_and_train_user_item(df_train, df_test)"
   ]
  },
  {
   "cell_type": "code",
   "execution_count": null,
   "metadata": {},
   "outputs": [],
   "source": [
    "# Replace the values in the dictionary below\n",
    "a = len(test_idx) - len(user_item_train.index[user_item_train.index.isin(test_idx)]) \n",
    "b = len(user_item_train.columns[user_item_train.columns.isin(test_arts)])\n",
    "c = len(user_item_train.index[user_item_train.index.isin(test_idx)]) \n",
    "d = len(test_arts) - len(user_item_train.columns[user_item_train.columns.isin(test_arts)])\n",
    "\n",
    "\n",
    "sol_4_dict = {\n",
    "    'How many users can we make predictions for in the test set?': c, # letter here, \n",
    "    'How many users in the test set are we not able to make predictions for because of the cold start problem?': a, # letter here, \n",
    "    'How many articles can we make predictions for in the test set?': b, # letter here,\n",
    "    'How many articles in the test set are we not able to make predictions for because of the cold start problem?': d,# letter here\n",
    "}\n",
    "\n",
    "t.sol_4_test(sol_4_dict)"
   ]
  },
  {
   "cell_type": "markdown",
   "metadata": {},
   "source": [
    "`5.` Now use the **user_item_train** dataset from above to find U, S, and V transpose using SVD. Then find the subset of rows in the **user_item_test** dataset that you can predict using this matrix decomposition with different numbers of latent features to see how many features makes sense to keep based on the accuracy on the test data. This will require combining what was done in questions `2` - `4`.\n",
    "\n",
    "Use the cells below to explore how well SVD works towards making predictions for recommendations on the test data.  "
   ]
  },
  {
   "cell_type": "code",
   "execution_count": null,
   "metadata": {},
   "outputs": [],
   "source": [
    "# fit SVD on the user_item_train matrix\n",
    "\n",
    "\n",
    "u_train, s_train, vt_train = np.linalg.svd(user_item_train) # fit svd similar to above then use the cells below"
   ]
  },
  {
   "cell_type": "code",
   "execution_count": null,
   "metadata": {},
   "outputs": [],
   "source": [
    "# Use these cells to see how well you can use the training \n",
    "# decomposition to predict on test data\n",
    "\n",
    "\n",
    "row_indexs_pred = user_item_train.index.isin(test_idx)\n",
    "col_indexs_pred = user_item_train.columns.isin(test_arts)\n",
    "\n",
    "user_item_test_ = \\\n",
    "    user_item_test.loc[\n",
    "        user_item_train.index[row_indexs_pred], \n",
    "        user_item_train.columns[col_indexs_pred]\n",
    "    ]\n",
    "\n",
    "u_test = u_train[row_indexs_pred, :]\n",
    "vt_test = vt_train[:, col_indexs_pred]\n",
    "s_test = s_train"
   ]
  },
  {
   "cell_type": "code",
   "execution_count": null,
   "metadata": {},
   "outputs": [],
   "source": [
    "num_latent_feats = np.arange(10, 700+10, 20)\n",
    "sum_errs_train = []\n",
    "sum_errs_test = []\n",
    "all_errs = []\n",
    "\n",
    "err_train_div = user_item_train.shape[0] * user_item_test_.shape[1]\n",
    "err_test_div = user_item_test_.shape[0] * user_item_test_.shape[1]\n",
    "err_all_div = user_item_test_.shape[0] * user_item_test_.shape[1]\n",
    "\n",
    "for k in num_latent_feats:\n",
    "    s_train_, u_train_, vt_train_ = \\\n",
    "        np.diag(s_train[:k]), u_train[:, :k], vt_train[:k, :]\n",
    "    s_test_, u_test_, vt_test_ = \\\n",
    "        np.diag(s_test[:k]), u_test[:, :k], vt_test[:k, :]\n",
    "    \n",
    "    user_item_train_pred = \\\n",
    "        np.around(np.dot(np.dot(u_train_, s_train_), vt_train_))\n",
    "    user_item_test_pred = \\\n",
    "        np.around(np.dot(np.dot(u_test_, s_test_), vt_test_))\n",
    "\n",
    "    diffs_train = np.subtract(user_item_train, user_item_train_pred)\n",
    "    diffs_test = np.subtract(user_item_test_, user_item_test_pred)\n",
    "    diffs_train_sum = np.sum(np.sum(np.abs(diffs_train)))\n",
    "    diffs_test_sum = np.sum(np.sum(np.abs(diffs_test))) \n",
    "    diffs_all_sum = \\\n",
    "        np.sum(user_item_test_pred) + np.sum(np.sum(user_item_test_))    \n",
    "    err_train = 1 - diffs_train_sum / err_train_div\n",
    "    err_test = 1 - diffs_test_sum / err_test_div\n",
    "    err_all = 1 - diffs_all_sum / err_all_div\n",
    "    \n",
    "    sum_errs_train.append(err_train)\n",
    "    sum_errs_test.append(err_test)\n",
    "    all_errs.append(err_all)\n",
    "    \n",
    "plt.plot(num_latent_feats, np.array(sum_errs_train));\n",
    "plt.plot(num_latent_feats, np.array(sum_errs_test)); \n",
    "plt.plot(num_latent_feats, np.array(all_errs)); \n",
    "plt.xlabel('Number of Latent Features');\n",
    "plt.ylabel('Accuracy');\n",
    "plt.title('Accuracy vs. Number of Latent Features');\n",
    "plt.legend([\"Train\", \"Test\", \"All Errors\"]);"
   ]
  },
  {
   "cell_type": "markdown",
   "metadata": {
    "collapsed": true
   },
   "source": [
    "`6.` Use the cell below to comment on the results you found in the previous question. Given the circumstances of your results, discuss what you might do to determine if the recommendations you make with any of the above recommendation systems are an improvement to how users currently find articles? "
   ]
  },
  {
   "cell_type": "markdown",
   "metadata": {},
   "source": [
    "**Your response here.**\n",
    "\n",
    "As it is shown above, Rank Based Recommendation, User-User Based Collaborative Filtering, Matrix Factorization are applied to make recommendations respectively. As for figuring out how users currently find articles, Rank Based Recommendation could not provide any improvement cause it doesn't include any user's characteristic; User-User Based Collaborative Filtering show considerable improvement benefited from the consideration of relationship between users; Matrix Factorization may show considerable improvement because of its trainable, accurate user-item model.\n",
    "\n",
    "Thus, i would prefer to *Matrix Factorization Model* to make recommendations. Besides the reason discussed in the first paragraph, the accuracy of this model shown above confirms that after accessible calculation, the accuracy of this model on train and test data could achieve 95% and higher. Meanwhile, to further engage users, this model is also available for several online test such as A/B test, which give more benefits not only for a better recommendation but the possibility of combined recommendation system including content-based recommendation as well."
   ]
  },
  {
   "cell_type": "markdown",
   "metadata": {
    "collapsed": true
   },
   "source": [
    "<a id='conclusions'></a>\n",
    "### Extras\n",
    "Using your workbook, you could now save your recommendations for each user, develop a class to make new predictions and update your results, and make a flask app to deploy your results.  These tasks are beyond what is required for this project.  However, from what you learned in the lessons, you certainly capable of taking these tasks on to improve upon your work here!\n",
    "\n",
    "\n",
    "## Conclusion\n",
    "\n",
    "> Congratulations!  You have reached the end of the Recommendations with IBM project! \n",
    "\n",
    "> **Tip**: Once you are satisfied with your work here, check over your report to make sure that it is satisfies all the areas of the [rubric](https://review.udacity.com/#!/rubrics/2322/view). You should also probably remove all of the \"Tips\" like this one so that the presentation is as polished as possible.\n",
    "\n",
    "\n",
    "## Directions to Submit\n",
    "\n",
    "> Before you submit your project, you need to create a .html or .pdf version of this notebook in the workspace here. To do that, run the code cell below. If it worked correctly, you should get a return code of 0, and you should see the generated .html file in the workspace directory (click on the orange Jupyter icon in the upper left).\n",
    "\n",
    "> Alternatively, you can download this report as .html via the **File** > **Download as** submenu, and then manually upload it into the workspace directory by clicking on the orange Jupyter icon in the upper left, then using the Upload button.\n",
    "\n",
    "> Once you've done this, you can submit your project by clicking on the \"Submit Project\" button in the lower right here. This will create and submit a zip file with this .ipynb doc and the .html or .pdf version you created. Congratulations! "
   ]
  },
  {
   "cell_type": "code",
   "execution_count": null,
   "metadata": {},
   "outputs": [],
   "source": [
    "from subprocess import call\n",
    "call(['python', '-m', 'nbconvert', 'Recommendations_with_IBM.ipynb'])"
   ]
  }
 ],
 "metadata": {
  "kernelspec": {
   "display_name": "Python 3",
   "language": "python",
   "name": "python3"
  },
  "language_info": {
   "codemirror_mode": {
    "name": "ipython",
    "version": 3
   },
   "file_extension": ".py",
   "mimetype": "text/x-python",
   "name": "python",
   "nbconvert_exporter": "python",
   "pygments_lexer": "ipython3",
   "version": "3.6.3"
  }
 },
 "nbformat": 4,
 "nbformat_minor": 2
}
